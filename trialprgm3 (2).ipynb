{
 "cells": [
  {
   "cell_type": "code",
   "execution_count": 4,
   "id": "7cb95d91",
   "metadata": {},
   "outputs": [],
   "source": [
    "import pandas as pd\n",
    "import numpy as np\n",
    "import re\n",
    "from nltk.tokenize import word_tokenize\n",
    "from nltk.stem import WordNetLemmatizer\n",
    "from nltk.corpus import stopwords\n",
    "from nltk.sentiment import SentimentIntensityAnalyzer\n",
    "from sklearn.feature_extraction.text import TfidfVectorizer\n",
    "from sklearn.ensemble import RandomForestClassifier\n",
    "from sklearn.metrics import accuracy_score, classification_report, confusion_matrix\n",
    "import matplotlib.pyplot as plt\n",
    "import seaborn as sns\n"
   ]
  },
  {
   "cell_type": "code",
   "execution_count": 5,
   "id": "486608bd",
   "metadata": {},
   "outputs": [],
   "source": [
    "# Initialize necessary tools\n",
    "lemmatizer = WordNetLemmatizer()\n",
    "stop_words = set(stopwords.words('english'))\n",
    "custom_stopwords = [\"would\", \"shall\", \"could\", \"might\"]\n",
    "stop_words.update(custom_stopwords)\n",
    "stop_words.discard(\"not\")  # Keep 'not' for sentiment analysis\n",
    "sia = SentimentIntensityAnalyzer()\n",
    "\n",
    "# Text cleaning functions\n",
    "def remove_special_character(content):\n",
    "    return re.sub(r'\\W+', ' ', content)\n",
    "\n",
    "def remove_url(content):\n",
    "    return re.sub(r'http\\S+', '', content)\n",
    "\n",
    "def lemmatize_and_remove_stopwords(content):\n",
    "    return \" \".join([lemmatizer.lemmatize(word.lower()) for word in word_tokenize(content) if word.lower() not in stop_words and word.isalpha()])\n",
    "\n",
    "def data_cleaning(content):\n",
    "    content = remove_special_character(content)\n",
    "    content = remove_url(content)\n",
    "    content = lemmatize_and_remove_stopwords(content)\n",
    "    return content\n",
    "\n",
    "# Sentiment classification based on rating\n",
    "def assign_sentiment(rating):\n",
    "    if rating >= 4:\n",
    "        return 'positive'\n",
    "    elif rating == 3:\n",
    "        return 'neutral'\n",
    "    else:\n",
    "        return 'negative'\n",
    "\n",
    "# Sentiment classification using SIA\n",
    "def classify_sentiment_using_sia(feedback):\n",
    "    sentiment_score = sia.polarity_scores(feedback)\n",
    "    if sentiment_score['compound'] >= 0.05:\n",
    "        return 'positive'\n",
    "    elif sentiment_score['compound'] <= -0.05:\n",
    "        return 'negative'\n",
    "    else:\n",
    "        return 'neutral'\n",
    "\n",
    "# Sample data for training the model (replace with more comprehensive data in practice)\n"
   ]
  },
  {
   "cell_type": "code",
   "execution_count": 10,
   "id": "b0af6d03",
   "metadata": {},
   "outputs": [
    {
     "name": "stdin",
     "output_type": "stream",
     "text": [
      "Enter your feedback:  the proffessor's cordial relation with student doesn't seem well and the teaching of the teacher is average\n",
      "Enter your rating (1-5):  3\n"
     ]
    },
    {
     "name": "stdout",
     "output_type": "stream",
     "text": [
      "\n",
      "Results:\n",
      "Cleaned Feedback: proffessor cordial relation student seem well teaching teacher average\n",
      "Sentiment by Rating: neutral\n",
      "Sentiment by SIA: positive\n",
      "Predicted Sentiment by Model: positive\n"
     ]
    }
   ],
   "source": [
    "data = {\n",
    "    'Feedback': [\n",
    "        \"Great product, loved it!\",\n",
    "        \"Horrible experience, will not buy again.\",\n",
    "        \"It was okay, nothing special.\",\n",
    "        \"Absolutely fantastic service!\",\n",
    "        \"Very bad quality, disappointed.\",\n",
    "    ],\n",
    "    'Rating': [5, 1, 3, 5, 2]\n",
    "}\n",
    "df = pd.DataFrame(data)\n",
    "\n",
    "# Data cleaning and labeling\n",
    "df['Cleaned_Feedback'] = df['Feedback'].apply(data_cleaning)\n",
    "df['Label'] = df['Rating'].apply(assign_sentiment)\n",
    "\n",
    "# Feature extraction with TfidfVectorizer\n",
    "tfidfvect = TfidfVectorizer(ngram_range=(1, 3), min_df=1, max_features=1000)\n",
    "x_train_tfidf = tfidfvect.fit_transform(df['Cleaned_Feedback']).toarray()\n",
    "y_train = df['Label']\n",
    "\n",
    "# Model training with Random Forest\n",
    "model = RandomForestClassifier(n_estimators=200, max_depth=10, random_state=42)\n",
    "model.fit(x_train_tfidf, y_train)\n",
    "\n",
    "# Function to process user input and predict sentiment\n",
    "def analyze_feedback():\n",
    "    feedback = input(\"Enter your feedback: \")\n",
    "    rating = int(input(\"Enter your rating (1-5): \"))\n",
    "\n",
    "    # Clean and process input\n",
    "    cleaned_feedback = data_cleaning(feedback)\n",
    "    sentiment_by_rating = assign_sentiment(rating)\n",
    "    sentiment_by_sia = classify_sentiment_using_sia(cleaned_feedback)\n",
    "\n",
    "    # Predict sentiment using the model\n",
    "    feedback_tfidf = tfidfvect.transform([cleaned_feedback]).toarray()\n",
    "    predicted_sentiment = model.predict(feedback_tfidf)[0]\n",
    "\n",
    "    # Display results\n",
    "    print(\"\\nResults:\")\n",
    "    print(f\"Cleaned Feedback: {cleaned_feedback}\")\n",
    "    print(f\"Sentiment by Rating: {sentiment_by_rating}\")\n",
    "    print(f\"Sentiment by SIA: {sentiment_by_sia}\")\n",
    "    print(f\"Predicted Sentiment by Model: {predicted_sentiment}\")\n",
    "\n",
    "# Run the analysis function\n",
    "analyze_feedback()"
   ]
  },
  {
   "cell_type": "code",
   "execution_count": null,
   "id": "8c50f9c8",
   "metadata": {},
   "outputs": [],
   "source": []
  }
 ],
 "metadata": {
  "kernelspec": {
   "display_name": "Python 3 (ipykernel)",
   "language": "python",
   "name": "python3"
  },
  "language_info": {
   "codemirror_mode": {
    "name": "ipython",
    "version": 3
   },
   "file_extension": ".py",
   "mimetype": "text/x-python",
   "name": "python",
   "nbconvert_exporter": "python",
   "pygments_lexer": "ipython3",
   "version": "3.9.21"
  }
 },
 "nbformat": 4,
 "nbformat_minor": 5
}
